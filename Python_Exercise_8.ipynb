{
  "nbformat": 4,
  "nbformat_minor": 0,
  "metadata": {
    "colab": {
      "provenance": [],
      "authorship_tag": "ABX9TyNE87H3Y764W+MlBb2coJxG",
      "include_colab_link": true
    },
    "kernelspec": {
      "name": "python3",
      "display_name": "Python 3"
    },
    "language_info": {
      "name": "python"
    }
  },
  "cells": [
    {
      "cell_type": "markdown",
      "metadata": {
        "id": "view-in-github",
        "colab_type": "text"
      },
      "source": [
        "<a href=\"https://colab.research.google.com/github/NormilDiaz/Linear-Algebra-58019/blob/main/Python_Exercise_8.ipynb\" target=\"_parent\"><img src=\"https://colab.research.google.com/assets/colab-badge.svg\" alt=\"Open In Colab\"/></a>"
      ]
    },
    {
      "cell_type": "markdown",
      "source": [
        "Code 1"
      ],
      "metadata": {
        "id": "n5FVzYwqHSlL"
      }
    },
    {
      "cell_type": "code",
      "execution_count": null,
      "metadata": {
        "id": "sMpGeU0tHBtV"
      },
      "outputs": [],
      "source": [
        "import numpy as np\n",
        "\n",
        "A = np.array ([[1,2,3],[4,5,6],[7,8,9]])\n",
        "\n",
        "print(A)\n",
        "\n",
        "A=np.array([[1,2],[4,7]])\n",
        "B=(np.linalg.inv(A))\n",
        "\n",
        "print(B)\n"
      ]
    },
    {
      "cell_type": "markdown",
      "source": [
        "Code 2"
      ],
      "metadata": {
        "id": "0OPGx98_HVhh"
      }
    },
    {
      "cell_type": "code",
      "source": [
        "import numpy as np\n",
        "\n",
        "A = np.array([[1,2],[4,7]])\n",
        "invA = (np.linalg.inv(A))\n",
        "\n",
        "print(invA)\n"
      ],
      "metadata": {
        "id": "9TBQn0T4HWP1"
      },
      "execution_count": null,
      "outputs": []
    },
    {
      "cell_type": "markdown",
      "source": [
        "Code 3"
      ],
      "metadata": {
        "id": "_0i6MzToHYr_"
      }
    },
    {
      "cell_type": "code",
      "source": [
        "A=np.array([[6,1,1,3],[4,-2,5,1],[2,8,7,6],[3,1,9,7]])\n",
        "print(A)\n",
        "\n",
        "B=(np.transpose(A))\n",
        "\n",
        "print(B)\n"
      ],
      "metadata": {
        "id": "Qxcqgx2THZfx"
      },
      "execution_count": null,
      "outputs": []
    }
  ]
}