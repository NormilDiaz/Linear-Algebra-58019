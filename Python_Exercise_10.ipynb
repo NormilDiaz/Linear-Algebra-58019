{
  "nbformat": 4,
  "nbformat_minor": 0,
  "metadata": {
    "colab": {
      "provenance": [],
      "authorship_tag": "ABX9TyPpkWMSWeHuqynJQ/MnKEvu",
      "include_colab_link": true
    },
    "kernelspec": {
      "name": "python3",
      "display_name": "Python 3"
    },
    "language_info": {
      "name": "python"
    }
  },
  "cells": [
    {
      "cell_type": "markdown",
      "metadata": {
        "id": "view-in-github",
        "colab_type": "text"
      },
      "source": [
        "<a href=\"https://colab.research.google.com/github/NormilDiaz/Linear-Algebra-58019/blob/main/Python_Exercise_10.ipynb\" target=\"_parent\"><img src=\"https://colab.research.google.com/assets/colab-badge.svg\" alt=\"Open In Colab\"/></a>"
      ]
    },
    {
      "cell_type": "markdown",
      "source": [
        "Code 1"
      ],
      "metadata": {
        "id": "kqy_r-tF7FBb"
      }
    },
    {
      "cell_type": "code",
      "execution_count": null,
      "metadata": {
        "id": "PbHVuf5Y6-8M"
      },
      "outputs": [],
      "source": [
        "import numpy as np\n",
        "\n",
        "X = np.array([[1,1,1],[3,-2,-1],[-1,4,2]], dtype=float)\n",
        "Y = np.array([[1],[4],[-3]],dtype=float)\n",
        "\n",
        "print(X)\n",
        "print(X.shape)\n",
        "\n",
        "print(' ')\n",
        "\n",
        "print(Y)\n",
        "print(Y.shape)"
      ]
    },
    {
      "cell_type": "markdown",
      "source": [
        "Coding Activity 10"
      ],
      "metadata": {
        "id": "zCc1Ke8Z7ek-"
      }
    },
    {
      "cell_type": "code",
      "source": [
        "import numpy as np\n",
        "\n",
        "Pieces = np.array([[30, 10, 120], [40, 20, 200], [50, 40, 360]])\n",
        "\n",
        "Price = np.array([12500, 18000, 25700])\n",
        "\n",
        "result = np.linalg.solve(Pieces, Price)\n",
        "\n",
        "Fprice = result[0]\n",
        "Yprice = result[1]\n",
        "Eprice = result[2]\n",
        "\n",
        "print(f\" price of the flour per sack: ₱{Fprice:.2f}\")\n",
        "print(' ')\n",
        "\n",
        "print(f\" price of the yeast per pack: ₱{Yprice:.2f}\")\n",
        "print(' ')\n",
        "\n",
        "print(f\"price of one egg: ₱{Eprice:.2f}\")"
      ],
      "metadata": {
        "id": "iacoh7pK7fSt"
      },
      "execution_count": null,
      "outputs": []
    }
  ]
}