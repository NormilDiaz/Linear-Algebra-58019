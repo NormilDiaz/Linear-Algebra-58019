{
  "nbformat": 4,
  "nbformat_minor": 0,
  "metadata": {
    "colab": {
      "provenance": [],
      "authorship_tag": "ABX9TyN/RtGd80l1BscRXMqeDL54",
      "include_colab_link": true
    },
    "kernelspec": {
      "name": "python3",
      "display_name": "Python 3"
    },
    "language_info": {
      "name": "python"
    }
  },
  "cells": [
    {
      "cell_type": "markdown",
      "metadata": {
        "id": "view-in-github",
        "colab_type": "text"
      },
      "source": [
        "<a href=\"https://colab.research.google.com/github/NormilDiaz/Linear-Algebra-58019/blob/main/Long_Quiz_1.ipynb\" target=\"_parent\"><img src=\"https://colab.research.google.com/assets/colab-badge.svg\" alt=\"Open In Colab\"/></a>"
      ]
    },
    {
      "cell_type": "markdown",
      "source": [
        "Problem 1"
      ],
      "metadata": {
        "id": "9rbFSX4kh5XS"
      }
    },
    {
      "cell_type": "code",
      "execution_count": null,
      "metadata": {
        "id": "AfgSXcOJgtxr"
      },
      "outputs": [],
      "source": [
        "import numpy as np\n",
        "\n",
        "A = np.array([[1, 2, 3],[4, 5, 6]])\n",
        "B = np.array([[1, 2],[3, 4],[5, 6]])\n",
        "C = np.array([[1, 2, 3],[4, 5, 6],[7, 8, 9]])\n",
        "D = np.array([[1, 2],[3, 4]])\n",
        "\n",
        "R = np.dot(A, B)\n",
        "\n",
        "S = np.add(D,D)\n",
        "\n",
        "T = 2 * C\n",
        "\n",
        "print(R)\n",
        "print(\" \")\n",
        "print(S)\n",
        "print(\" \")\n",
        "print(T)"
      ]
    },
    {
      "cell_type": "markdown",
      "source": [
        "Problem 2"
      ],
      "metadata": {
        "id": "uYH2jgE0h37b"
      }
    },
    {
      "cell_type": "code",
      "source": [
        "import numpy as np\n",
        "\n",
        "A = np.array([2, 7, 4])\n",
        "B = np.array([3, 9, 8])\n",
        "\n",
        "CP = np.cross(A, B)\n",
        "\n",
        "print(\"Cross Product of A and B is:\", CP)\n"
      ],
      "metadata": {
        "id": "FPQgEsi8hGxA"
      },
      "execution_count": null,
      "outputs": []
    }
  ]
}