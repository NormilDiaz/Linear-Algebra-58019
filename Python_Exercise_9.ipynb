{
  "nbformat": 4,
  "nbformat_minor": 0,
  "metadata": {
    "colab": {
      "provenance": [],
      "authorship_tag": "ABX9TyMp23Ng2gWf1iDH3liFAR4J",
      "include_colab_link": true
    },
    "kernelspec": {
      "name": "python3",
      "display_name": "Python 3"
    },
    "language_info": {
      "name": "python"
    }
  },
  "cells": [
    {
      "cell_type": "markdown",
      "metadata": {
        "id": "view-in-github",
        "colab_type": "text"
      },
      "source": [
        "<a href=\"https://colab.research.google.com/github/NormilDiaz/Linear-Algebra-58019/blob/main/Python_Exercise_9.ipynb\" target=\"_parent\"><img src=\"https://colab.research.google.com/assets/colab-badge.svg\" alt=\"Open In Colab\"/></a>"
      ]
    },
    {
      "cell_type": "markdown",
      "source": [
        "Code 1"
      ],
      "metadata": {
        "id": "zjmNQ-d11hZs"
      }
    },
    {
      "cell_type": "code",
      "execution_count": null,
      "metadata": {
        "colab": {
          "base_uri": "https://localhost:8080/"
        },
        "id": "d0d2wKIo1fiw",
        "outputId": "457af9de-ef23-4c29-d2c5-86bf8e2ebd42"
      },
      "outputs": [
        {
          "output_type": "execute_result",
          "data": {
            "text/plain": [
              "3.0000000000000004"
            ]
          },
          "metadata": {},
          "execution_count": 2
        }
      ],
      "source": [
        "import numpy as np\n",
        "\n",
        "A = np.array([[1,4],[0,3]])\n",
        "\n",
        "np.linalg.det(A)"
      ]
    },
    {
      "cell_type": "markdown",
      "source": [
        "Code 2"
      ],
      "metadata": {
        "id": "QDOMMwwH2AA0"
      }
    },
    {
      "cell_type": "code",
      "source": [
        "B = np.array([[1,3,5,6],[0,3,1,3],[3,1,8,2],[5,2,6,8]])\n",
        "\n",
        "np.linalg.det(B)"
      ],
      "metadata": {
        "colab": {
          "base_uri": "https://localhost:8080/"
        },
        "id": "qCg5lsdh2Ba7",
        "outputId": "5b544bc1-58a1-452f-dc96-ff8afd3a2bb3"
      },
      "execution_count": null,
      "outputs": [
        {
          "output_type": "execute_result",
          "data": {
            "text/plain": [
              "-235.0000000000002"
            ]
          },
          "metadata": {},
          "execution_count": 3
        }
      ]
    },
    {
      "cell_type": "markdown",
      "source": [
        "Code activity 9"
      ],
      "metadata": {
        "id": "upNeAY6VAQ0Q"
      }
    },
    {
      "cell_type": "code",
      "source": [
        "# Associative Property:\n",
        "\n",
        "import numpy as np\n",
        "\n",
        "A = np.array([[1, 2, 3], [4, 5, 6], [7, 8, 9]])\n",
        "\n",
        "B = np.array([[10, 11, 12], [13, 14, 15], [16, 17, 18]])\n",
        "\n",
        "C = np.array([[19, 20, 21], [22, 23, 24], [25, 26, 27]])\n",
        "\n",
        "Associative1 = (A * B) * C\n",
        "\n",
        "Associative2 = A * (B * C)\n",
        "\n",
        "print('Given:')\n",
        "print(' ')\n",
        "print('A = ([[1, 2, 3], [4, 5, 6], [7, 8, 9]])')\n",
        "print('B = ([[10, 11, 12], [13, 14, 15], [16, 17, 18]])')\n",
        "print('C = ([[19, 20, 21], [22, 23, 24], [25, 26, 27]])')\n",
        "print(' ')\n",
        "print(' ')\n",
        "\n",
        "print('Associative Examples:')\n",
        "print(' ')\n",
        "\n",
        "print('(A * B) * C')\n",
        "print(' ')\n",
        "print(Associative1)\n",
        "print(' ')\n",
        "print(' ')\n",
        "print('A * (B * C)')\n",
        "print(' ')\n",
        "print(Associative2)"
      ],
      "metadata": {
        "id": "KdlzBKNpAU2R"
      },
      "execution_count": null,
      "outputs": []
    },
    {
      "cell_type": "code",
      "source": [
        "# Distributive Property:\n",
        "\n",
        "import numpy as np\n",
        "\n",
        "A = np.array([[1, 2, 3], [4, 5, 6], [7, 8, 9]])\n",
        "\n",
        "B = np.array([[10, 11, 12], [13, 14, 15], [16, 17, 18]])\n",
        "\n",
        "C = np.array([[19, 20, 21], [22, 23, 24], [25, 26, 27]])\n",
        "\n",
        "D = np.array([[19, 20, 21], [22, 23, 24], [25, 26, 27]])\n",
        "\n",
        "Distributive1 = (A * B * D) * C\n",
        "\n",
        "Distributive2 = A * (B * C - D)\n",
        "\n",
        "print('Given:')\n",
        "print(' ')\n",
        "print('A = ([[1, 2, 3], [4, 5, 6], [7, 8, 9]])')\n",
        "print('B = ([[10, 11, 12], [13, 14, 15], [16, 17, 18]])')\n",
        "print('C = ([[19, 20, 21], [22, 23, 24], [25, 26, 27]])')\n",
        "print('D = ([[19, 20, 21], [22, 23, 24], [25, 26, 27]]) ')\n",
        "print(' ')\n",
        "print(' ')\n",
        "\n",
        "print('Distributive Examples:')\n",
        "print(' ')\n",
        "\n",
        "print('(A * B * D) * C')\n",
        "print(' ')\n",
        "print(Distributive1)\n",
        "print(' ')\n",
        "print(' ')\n",
        "print('A * (B * C - D)')\n",
        "print(' ')\n",
        "print(Distributive2)"
      ],
      "metadata": {
        "id": "4m3-H_Zmm3l5"
      },
      "execution_count": null,
      "outputs": []
    },
    {
      "cell_type": "code",
      "source": [
        "# Scalar Multiplication:\n",
        "\n",
        "import numpy as np\n",
        "\n",
        "A = np.array([[1, 2, 3], [4, 5, 6], [7, 8, 9]])\n",
        "\n",
        "B = np.array([[10, 11, 12], [13, 14, 15], [16, 17, 18]])\n",
        "\n",
        "C = np.array([[19, 20, 21], [22, 23, 24], [25, 26, 27]])\n",
        "\n",
        "\n",
        "Scalar1 = A * B\n",
        "\n",
        "Scalar2 = B * C\n",
        "\n",
        "print('Given:')\n",
        "print(' ')\n",
        "print('A = ([[1, 2, 3], [4, 5, 6], [7, 8, 9]])')\n",
        "print('B = ([[10, 11, 12], [13, 14, 15], [16, 17, 18]])')\n",
        "print('C = ([[19, 20, 21], [22, 23, 24], [25, 26, 27]])')\n",
        "print(' ')\n",
        "print(' ')\n",
        "\n",
        "print('Scalar Examples:')\n",
        "print(' ')\n",
        "\n",
        "print('A * B')\n",
        "print(' ')\n",
        "print(Scalar1)\n",
        "print(' ')\n",
        "print(' ')\n",
        "print('B * C')\n",
        "print(' ')\n",
        "print(Scalar2)"
      ],
      "metadata": {
        "id": "ZBwNqZEfnla9"
      },
      "execution_count": null,
      "outputs": []
    },
    {
      "cell_type": "code",
      "source": [
        "# Identity Matrix Property:\n",
        "\n",
        "import numpy as np\n",
        "\n",
        "def Identity_Matrix(size):\n",
        "\n",
        "    identity_matrix = np.eye(size)\n",
        "    return identity_matrix\n",
        "\n",
        "size = 3\n",
        "I3x3 = Identity_Matrix(size)\n",
        "\n",
        "print('Scalar Examples:')\n",
        "print(' ')\n",
        "print(I3x3)"
      ],
      "metadata": {
        "id": "8BRMYQBoshMi"
      },
      "execution_count": null,
      "outputs": []
    },
    {
      "cell_type": "code",
      "source": [
        "# Transpose Property:\n",
        "\n",
        "import numpy as np\n",
        "\n",
        "def transpose_matrix(matrix):\n",
        "\n",
        "    transposed_matrix = matrix.T\n",
        "    return transposed_matrix\n",
        "\n",
        "matrix = np.array([[1, 2, 3], [4, 5, 6]])\n",
        "transposed_matrix = transpose_matrix(matrix)\n",
        "\n",
        "print('Transpose Examples:')\n",
        "print(' ')\n",
        "print(transposed_matrix)"
      ],
      "metadata": {
        "id": "Lf929Y2ItObw"
      },
      "execution_count": null,
      "outputs": []
    }
  ]
}