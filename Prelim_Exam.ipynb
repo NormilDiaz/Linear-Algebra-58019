{
  "nbformat": 4,
  "nbformat_minor": 0,
  "metadata": {
    "colab": {
      "provenance": [],
      "authorship_tag": "ABX9TyP4VRGZHwBCTXhVWENGMA3H",
      "include_colab_link": true
    },
    "kernelspec": {
      "name": "python3",
      "display_name": "Python 3"
    },
    "language_info": {
      "name": "python"
    }
  },
  "cells": [
    {
      "cell_type": "markdown",
      "metadata": {
        "id": "view-in-github",
        "colab_type": "text"
      },
      "source": [
        "<a href=\"https://colab.research.google.com/github/NormilDiaz/Linear-Algebra-58019/blob/main/Prelim_Exam.ipynb\" target=\"_parent\"><img src=\"https://colab.research.google.com/assets/colab-badge.svg\" alt=\"Open In Colab\"/></a>"
      ]
    },
    {
      "cell_type": "markdown",
      "source": [
        "Question 1"
      ],
      "metadata": {
        "id": "poLaP78wvK4w"
      }
    },
    {
      "cell_type": "code",
      "execution_count": null,
      "metadata": {
        "id": "AfsDOU1NtyJI"
      },
      "outputs": [],
      "source": [
        "import numpy as np\n",
        "\n",
        "num = np.arange(1, 11)\n",
        "\n",
        "mp = np.outer(num, num)\n",
        "\n",
        "print(mp)"
      ]
    },
    {
      "cell_type": "markdown",
      "source": [
        "Question 2"
      ],
      "metadata": {
        "id": "UI7n9YaLvPJR"
      }
    },
    {
      "cell_type": "code",
      "source": [
        "import numpy as np\n",
        "\n",
        "num = np.arange(1, 11)\n",
        "\n",
        "mp = np.outer(num, num)\n",
        "\n",
        "double_mp = mp * 2\n",
        "\n",
        "print(double_mp)"
      ],
      "metadata": {
        "id": "8qXM6KqPvQbP"
      },
      "execution_count": null,
      "outputs": []
    },
    {
      "cell_type": "markdown",
      "source": [
        "Question 3"
      ],
      "metadata": {
        "id": "sTIoSWYvvl4P"
      }
    },
    {
      "cell_type": "code",
      "source": [
        "import numpy as np\n",
        "\n",
        "c = np.eye(7, 7)\n",
        "print(c)"
      ],
      "metadata": {
        "id": "jfrFHoEHvnEP"
      },
      "execution_count": null,
      "outputs": []
    },
    {
      "cell_type": "markdown",
      "source": [
        "Question 4"
      ],
      "metadata": {
        "id": "PnrNQIbxvyC3"
      }
    },
    {
      "cell_type": "code",
      "source": [
        "matrix = np.array([[1, 2, 3, 4],\n",
        "                   [5, 6, 7, 8],\n",
        "                   [9, 10, 11, 12]])\n",
        "\n",
        "size = matrix.size\n",
        "shape = matrix.shape\n",
        "dimension = matrix.ndim\n",
        "\n",
        "print('Matrix:')\n",
        "print(matrix)\n",
        "\n",
        "print(' ')\n",
        "print('Size:')\n",
        "print(size)\n",
        "\n",
        "print(' ')\n",
        "print('Shape:')\n",
        "print(shape)\n",
        "\n",
        "print(' ')\n",
        "print('Dimension:')\n",
        "print(dimension)"
      ],
      "metadata": {
        "id": "0fYJoCpKvx2X"
      },
      "execution_count": null,
      "outputs": []
    },
    {
      "cell_type": "markdown",
      "source": [
        "Question 5"
      ],
      "metadata": {
        "id": "ExTuy-uqwmo4"
      }
    },
    {
      "cell_type": "code",
      "source": [
        "import numpy as np\n",
        "\n",
        "arrayOne = np.array([[5, 6, 9],[21, 18, 27]])\n",
        "arrayTwo = np.array([[15, 33, 24], [4, 7, 1]])\n",
        "\n",
        "R = np.add(arrayOne, arrayTwo)\n",
        "S = arrayOne * arrayOne\n",
        "T = arrayTwo * arrayTwo\n",
        "\n",
        "print('Sum:')\n",
        "print(R)\n",
        "\n",
        "print(' ')\n",
        "print(' ')\n",
        "\n",
        "print('Square of each element:')\n",
        "print(' ')\n",
        "print('arrayOne:')\n",
        "print(S)\n",
        "\n",
        "print(' ')\n",
        "print('arrayTwo:')\n",
        "print(T)\n"
      ],
      "metadata": {
        "id": "WweNO-XLwoAY"
      },
      "execution_count": null,
      "outputs": []
    }
  ]
}