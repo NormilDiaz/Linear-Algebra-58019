{
  "nbformat": 4,
  "nbformat_minor": 0,
  "metadata": {
    "colab": {
      "provenance": [],
      "authorship_tag": "ABX9TyMyKLg+somNhrsWUz43qoDc",
      "include_colab_link": true
    },
    "kernelspec": {
      "name": "python3",
      "display_name": "Python 3"
    },
    "language_info": {
      "name": "python"
    }
  },
  "cells": [
    {
      "cell_type": "markdown",
      "metadata": {
        "id": "view-in-github",
        "colab_type": "text"
      },
      "source": [
        "<a href=\"https://colab.research.google.com/github/NormilDiaz/Linear-Algebra-58019/blob/main/Python_Exercise_4.ipynb\" target=\"_parent\"><img src=\"https://colab.research.google.com/assets/colab-badge.svg\" alt=\"Open In Colab\"/></a>"
      ]
    },
    {
      "cell_type": "code",
      "execution_count": 12,
      "metadata": {
        "colab": {
          "base_uri": "https://localhost:8080/"
        },
        "id": "Sob2ZLptIVtA",
        "outputId": "549a9259-2d9f-4832-fd7b-e1cf96f0d8b3"
      },
      "outputs": [
        {
          "output_type": "stream",
          "name": "stdout",
          "text": [
            "Addition Vector:\n",
            "[-0.8  6.6 -1.1]\n",
            "\n",
            "Dot Product Vector:\n",
            "0.33999999999999997\n",
            "\n",
            "Cross Product:\n",
            "[-2.4  -0.5  -0.38]\n"
          ]
        }
      ],
      "source": [
        "import numpy as np\n",
        "\n",
        "A = np.array([-0.4, 4.3, -0.6])\n",
        "B = np.array([-0.2, 0.2, 1])\n",
        "C = np.array([-0.2, 2.1, -1.5])\n",
        "\n",
        "Add_Ans = A + B + C\n",
        "DP_Ans = np.dot(A, B)\n",
        "CP_Ans = np.cross(B, C)\n",
        "\n",
        "print('Addition Vector:')\n",
        "print(Add_Ans)\n",
        "print('')\n",
        "print('Dot Product Vector:')\n",
        "print(DP_Ans)\n",
        "print('')\n",
        "print('Cross Product:')\n",
        "print(CP_Ans)"
      ]
    }
  ]
}