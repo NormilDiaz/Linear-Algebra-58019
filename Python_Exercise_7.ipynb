{
  "nbformat": 4,
  "nbformat_minor": 0,
  "metadata": {
    "colab": {
      "provenance": [],
      "authorship_tag": "ABX9TyPqhSaqDMKh/XkzH9ANbabu",
      "include_colab_link": true
    },
    "kernelspec": {
      "name": "python3",
      "display_name": "Python 3"
    },
    "language_info": {
      "name": "python"
    }
  },
  "cells": [
    {
      "cell_type": "markdown",
      "metadata": {
        "id": "view-in-github",
        "colab_type": "text"
      },
      "source": [
        "<a href=\"https://colab.research.google.com/github/NormilDiaz/Linear-Algebra-58019/blob/main/Python_Exercise_7.ipynb\" target=\"_parent\"><img src=\"https://colab.research.google.com/assets/colab-badge.svg\" alt=\"Open In Colab\"/></a>"
      ]
    },
    {
      "cell_type": "markdown",
      "source": [
        "Code 1"
      ],
      "metadata": {
        "id": "PEHwoJpeGFRU"
      }
    },
    {
      "cell_type": "code",
      "source": [
        "import numpy as np\n",
        "\n",
        "def describe_mat(matrix):\n",
        "    if isinstance(matrix, np.ndarray):\n",
        "        print(f'Matrix:\\n{matrix}\\n\\nShape:\\t{matrix.shape}\\nRank:\\t{matrix.ndim}\\n')\n",
        "    else:\n",
        "        print(\"Input is not a NumPy array.\")\n",
        "\n",
        "A = np.array([[1, 2],[3, 1]])\n",
        "describe_mat(A)\n",
        "\n",
        "G = np.array([[1,1],[2,2]])\n",
        "describe_mat(G)\n",
        "\n",
        "B = np.array([\n",
        "    [8, 2],[5, 4],[1, 1]])\n",
        "describe_mat(B)\n",
        "\n",
        "H = np.array([1,2,3,4,5])\n",
        "describe_mat(H)\n"
      ],
      "metadata": {
        "id": "taNqJr-JCvSW"
      },
      "execution_count": null,
      "outputs": []
    }
  ]
}